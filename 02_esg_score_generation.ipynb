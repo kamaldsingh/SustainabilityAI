{
 "cells": [
  {
   "cell_type": "code",
   "execution_count": 1,
   "id": "945de653-7f04-41eb-9e1e-5905ce06a449",
   "metadata": {},
   "outputs": [],
   "source": [
    "# !pip install wordcloud"
   ]
  },
  {
   "cell_type": "code",
   "execution_count": 1,
   "id": "ba656d5b-d133-429a-af90-d15500efd3d2",
   "metadata": {},
   "outputs": [
    {
     "name": "stderr",
     "output_type": "stream",
     "text": [
      "[nltk_data] Downloading package punkt to /Users/kamal/nltk_data...\n",
      "[nltk_data]   Package punkt is already up-to-date!\n"
     ]
    }
   ],
   "source": [
    "%run -i helpers.py\n",
    "%matplotlib inline"
   ]
  },
  {
   "cell_type": "code",
   "execution_count": 3,
   "id": "423dac03-05a9-49b2-90ef-0912dcf516ec",
   "metadata": {},
   "outputs": [],
   "source": [
    "tp = pd.read_csv('./data/tp_tics_splits.csv')\n",
    "tp.dt = pd.to_datetime(tp.dt)\n",
    "tp.sort_values(['ticker','dt'],inplace=True)\n",
    "\n",
    "snp = pd.read_csv('./data/snp_constituents.csv')\n",
    "snp.Symbol = snp.Symbol.astype(str)\n",
    "constituents_snp = [x for x in list(tp.ticker.unique()) if x in snp.Symbol.tolist()]\n",
    "# print(f'we have {len(constituents_snp)} cons in S&P 500')  # 474\n",
    "tp_snp = tp[tp.ticker.isin(constituents_snp)]"
   ]
  },
  {
   "cell_type": "code",
   "execution_count": null,
   "id": "b18f126a-ef4e-4929-9c58-86075d66a9bb",
   "metadata": {},
   "outputs": [],
   "source": [
    "# print(tp.ticker.nunique())\n",
    "# tp.dt.describe()\n",
    "# 2019-04-11  to 2023-02-23"
   ]
  },
  {
   "cell_type": "code",
   "execution_count": 6,
   "id": "f762b8d8-adf1-4512-b78f-2bb6d34e3efb",
   "metadata": {},
   "outputs": [
    {
     "name": "stdout",
     "output_type": "stream",
     "text": [
      "running for: HSC\n",
      "running for: CELH\n",
      "running for: IEX\n",
      "running for: GPL\n",
      "running for: PGR\n",
      "running for: CVLG\n",
      "running for: LCII\n",
      "running for: PAAS\n",
      "running for: PNNT\n",
      "running for: FLNT\n",
      "running for: FWONA\n",
      "running for: SHYF\n",
      "running for: TNET\n",
      "running for: ACMR\n",
      "running for: TREE\n",
      "running for: STN\n",
      "running for: LLY\n",
      "running for: BCRX\n",
      "running for: ARWR\n",
      "running for: SWBI\n",
      "running for: QCOM\n",
      "running for: CL\n",
      "running for: HCA\n",
      "running for: EXAS\n",
      "running for: MS\n",
      "running for: AFCG\n",
      "running for: ABC\n",
      "running for: WSO\n",
      "running for: BLK\n",
      "running for: ITCB\n",
      "running for: CPF\n",
      "running for: INFY\n",
      "running for: VRRM\n",
      "running for: AGIO\n",
      "running for: VMI\n",
      "running for: TUSK\n",
      "running for: ZVIA\n",
      "running for: NTB\n",
      "running for: AVGO\n",
      "running for: AGO\n",
      "running for: AFCG\n",
      "running for: SXT\n",
      "running for: USPH\n",
      "running for: WU\n",
      "running for: BJRI\n",
      "running for: MOH\n",
      "running for: HES\n",
      "running for: PRFT\n",
      "running for: COIN\n",
      "running for: FUTU\n",
      "running for: JAGX\n",
      "running for: MNDY\n",
      "running for: KARO\n",
      "running for: GMED\n",
      "running for: WES\n",
      "running for: DHC\n",
      "running for: YUM\n",
      "running for: KRG\n",
      "running for: WVE\n",
      "running for: TIXT\n",
      "running for: ACTG\n",
      "running for: VIV\n",
      "running for: POWI\n",
      "running for: RAD\n",
      "running for: ODC\n",
      "running for: NUVA\n",
      "running for: IPAR\n",
      "running for: SLQT\n",
      "running for: BDSI\n",
      "running for: XPER\n",
      "running for: VNE\n",
      "running for: RMD\n",
      "running for: HOG\n",
      "running for: URBN\n",
      "running for: WRB\n",
      "running for: VOYA\n",
      "running for: LITE\n",
      "running for: VCTR\n",
      "running for: DDOG\n",
      "running for: WM\n",
      "running for: CANG\n",
      "running for: ADV\n",
      "running for: LEA\n",
      "running for: SAIA\n",
      "running for: MATW\n",
      "running for: STC\n",
      "running for: ARMK\n",
      "running for: WRK\n",
      "running for: SNPS\n",
      "running for: CXM\n",
      "running for: ZLND.Y\n",
      "running for: TXMD\n",
      "running for: PATH\n",
      "running for: WEN\n",
      "running for: VIE\n",
      "running for: ENTA\n",
      "running for: TTEK\n",
      "running for: LHDX\n",
      "running for: YOU\n",
      "running for: INBK\n"
     ]
    }
   ],
   "source": [
    "np.random.seed(10)\n",
    "sample_tics = np.random.choice(tp.ticker.unique(),100)\n",
    "for tic in sample_tics:     #list(tp.ticker.unique())[11:]:\n",
    "    print(f'running for: {tic}')\n",
    "    if not exists(f'./tickers/{tic}.csv'):\n",
    "        df = generate_esg_cols_sections(tic)\n",
    "        df.to_csv(f'./tickers/{tic}.csv',index=None)\n",
    "        del df\n",
    "        gc.collect()"
   ]
  },
  {
   "cell_type": "code",
   "execution_count": null,
   "id": "67dbc335-5970-4e5a-b94a-12b98e9bcfd5",
   "metadata": {},
   "outputs": [],
   "source": []
  }
 ],
 "metadata": {
  "kernelspec": {
   "display_name": "Python 3 (ipykernel)",
   "language": "python",
   "name": "python3"
  },
  "language_info": {
   "codemirror_mode": {
    "name": "ipython",
    "version": 3
   },
   "file_extension": ".py",
   "mimetype": "text/x-python",
   "name": "python",
   "nbconvert_exporter": "python",
   "pygments_lexer": "ipython3",
   "version": "3.9.16"
  }
 },
 "nbformat": 4,
 "nbformat_minor": 5
}

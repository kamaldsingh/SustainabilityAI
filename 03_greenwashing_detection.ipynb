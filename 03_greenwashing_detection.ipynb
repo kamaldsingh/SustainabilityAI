{
 "cells": [
  {
   "cell_type": "code",
   "execution_count": 1,
   "id": "945de653-7f04-41eb-9e1e-5905ce06a449",
   "metadata": {},
   "outputs": [],
   "source": [
    "# !pip install wordcloud"
   ]
  },
  {
   "cell_type": "code",
   "execution_count": 1,
   "id": "ba656d5b-d133-429a-af90-d15500efd3d2",
   "metadata": {},
   "outputs": [
    {
     "name": "stderr",
     "output_type": "stream",
     "text": [
      "[nltk_data] Downloading package punkt to /Users/kamal/nltk_data...\n",
      "[nltk_data]   Package punkt is already up-to-date!\n"
     ]
    }
   ],
   "source": [
    "%run -i helpers.py\n",
    "%matplotlib inline"
   ]
  },
  {
   "cell_type": "code",
   "execution_count": 2,
   "id": "f99d9856-d7cb-46bc-a169-7f4607e4b93f",
   "metadata": {},
   "outputs": [],
   "source": [
    "frames = []\n",
    "for files in os.listdir('./tickers'):\n",
    "    if re.search('\\.csv',files):\n",
    "        df = pd.read_csv('./tickers'+ '/' +files, index_col=False)\n",
    "        frames.append(df)\n",
    "\n",
    "final_df = pd.concat(frames)"
   ]
  },
  {
   "cell_type": "code",
   "execution_count": 3,
   "id": "c8efc7d9-4089-4a63-a792-cf2c0d3eddbf",
   "metadata": {},
   "outputs": [],
   "source": [
    "id_cols = ['ticker', 'q', 'Name', 'Country', 'Sector','Industry']"
   ]
  },
  {
   "cell_type": "code",
   "execution_count": 4,
   "id": "e6990435-d840-4c0e-baa0-6ee8c9c4d010",
   "metadata": {
    "tags": []
   },
   "outputs": [],
   "source": [
    "cols_expect = ['Environmental','Social','Governance']\n",
    "esg_labels = ['Environmental','Social','Governance']"
   ]
  },
  {
   "cell_type": "code",
   "execution_count": 5,
   "id": "2037069b-0bfc-4f85-93c2-3b964a072398",
   "metadata": {},
   "outputs": [],
   "source": [
    "tic_meta_df = pd.read_csv('./data/tic_names.csv')[['Symbol', 'Name',\n",
    "       'Country', 'Sector', 'Industry']].rename(columns={'Symbol':'ticker'})\n",
    "final_df = final_df.merge(tic_meta_df, how = 'left', on = 'ticker')\n",
    "final_df.Name = final_df.Name.apply(lambda x: str(x).replace('Common Stock','').replace('Common Shares',''))"
   ]
  },
  {
   "cell_type": "code",
   "execution_count": 6,
   "id": "a5b66367-b189-4521-94c9-20bdb7767405",
   "metadata": {},
   "outputs": [],
   "source": [
    "ai_df = pd.DataFrame()"
   ]
  },
  {
   "cell_type": "markdown",
   "id": "7736f05c-141d-4ff3-b547-92a02664f6fd",
   "metadata": {},
   "source": [
    "## Contradiction Analysis"
   ]
  },
  {
   "cell_type": "code",
   "execution_count": 7,
   "id": "3e24225f-eea8-4ff6-ad4f-e66a6b1c7c4b",
   "metadata": {},
   "outputs": [],
   "source": [
    "# find candidates\n",
    "def check_diff_esg_cols(df):\n",
    "    retdf = []\n",
    "    for c in cols_expect:\n",
    "        diff = np.nansum((df[c+'_QnA']-df[c+'_prep_remarks']))*100/df.shape[0]\n",
    "        retdf.append([df.ticker.iloc[0],df.Name.iloc[0],df.Sector.iloc[0],df.Industry.iloc[0],diff,c])\n",
    "    df = pd.DataFrame(retdf, columns=['ticker', 'Name','Sector','Industry','pdiff','label'])\n",
    "    return(df)\n",
    "\n",
    "# pdiffdf = final_df.groupby(['ticker','dt']).apply(check_diff_esg_cols).droplevel(0)   # dt gives more False positives \n",
    "pdiffdf = final_df.groupby(['ticker']).apply(check_diff_esg_cols).droplevel(0)\n",
    "gw_candidates = pdiffdf[(abs(pdiffdf.pdiff)>50)]\n",
    "# gw_candidates.reset_index(inplace=True)  # only reqd if you apply on dt \n",
    "if('level_1' in gw_candidates.columns):\n",
    "    gw_candidates.drop(columns='level_1',inplace=True)"
   ]
  },
  {
   "cell_type": "code",
   "execution_count": 8,
   "id": "9072a994-22b6-4810-87e0-a78a5252542a",
   "metadata": {},
   "outputs": [],
   "source": [
    "# gw_candidates.groupby('ticker')['dt'].nunique()\n",
    "# there are cases where companies would consistently have conflicting claims "
   ]
  },
  {
   "cell_type": "code",
   "execution_count": 9,
   "id": "329284f2-5313-49ea-a1ad-b04208ac698e",
   "metadata": {},
   "outputs": [],
   "source": [
    "## Find conflicting claims\n",
    "def get_text_example_section_sing_tr(tr, neg=True, label = 'Environmental', section='QnA', sent_thresh = 0.7):\n",
    "    # neg=param_dict['neg'] \n",
    "    # label = param_dict['label'] \n",
    "    # section=param_dict['section'] \n",
    "    # sent_thresh = param_dict['sent_thresh']\n",
    "    \n",
    "    if(neg==True):\n",
    "        label_scores_df = get_esg_label_transcript(tr)\n",
    "        label_scores_df['sentiment'] = label_scores_df.sent.apply(lambda x: create_sentiment_output(sentiment_pipeline(x)))\n",
    "        label_scores_df.sentiment = label_scores_df.sentiment.apply(lambda x:np.round(x,4))\n",
    "        clean_scores = label_scores_df[((label_scores_df.label_score>sent_thresh) & (label_scores_df.sentiment!=0))]\n",
    "        reslist = clean_scores[((clean_scores.sentiment<0) &(clean_scores.esg_label==label))].sent.tolist()\n",
    "        return(list(set(reslist)))\n",
    "    else:\n",
    "        label_scores_df = get_esg_label_transcript(tr)\n",
    "        label_scores_df['sentiment'] = label_scores_df.sent.apply(lambda x: create_sentiment_output(sentiment_pipeline(x)))\n",
    "        label_scores_df.sentiment = label_scores_df.sentiment.apply(lambda x:np.round(x,4))\n",
    "        clean_scores = label_scores_df[((label_scores_df.label_score>sent_thresh) & (label_scores_df.sentiment!=0))]\n",
    "        reslist = clean_scores[((clean_scores.sentiment>0) &(clean_scores.esg_label==label))].sent.tolist()\n",
    "        return(list(set(reslist)))\n",
    "    \n",
    "def get_text_example_for_tic_section(df, neg=True, label = 'Environmental', section='QnA', sent_thresh = 0.7):\n",
    "    # param_dict = dict()\n",
    "    # param_dict['neg'] = neg\n",
    "    # param_dict['label']= label \n",
    "    # param_dict['section'] = section\n",
    "    # param_dict['sent_thresh'] = sent_thresh\n",
    "\n",
    "    res = []\n",
    "    tr_sents = df.QnA.apply(get_text_example_section_sing_tr, args = (neg,label,section,sent_thresh))\n",
    "    for x in tr_sents:\n",
    "        for l in x:\n",
    "            res.append(l) \n",
    "    return(res)"
   ]
  },
  {
   "cell_type": "code",
   "execution_count": 10,
   "id": "041a2645-3a63-419a-bbce-554a1b8a6b17",
   "metadata": {},
   "outputs": [],
   "source": [
    "# @interact\n",
    "# def func(company_tic = widgets.Dropdown(options=gw_candidates.ticker.tolist(),value='ACA'), \n",
    "#          label = widgets.Dropdown(options=esg_labels,value='Environmental')):\n",
    "#     return"
   ]
  },
  {
   "cell_type": "code",
   "execution_count": 11,
   "id": "5fc2f7d3-c42c-4c1a-be5c-61382045f7af",
   "metadata": {},
   "outputs": [
    {
     "data": {
      "application/vnd.jupyter.widget-view+json": {
       "model_id": "187217dc933e487b8219695e201d16d6",
       "version_major": 2,
       "version_minor": 0
      },
      "text/plain": [
       "interactive(children=(Dropdown(description='company_tic', index=1, options=('ABOS', 'ACA', 'ADAP', 'ADM', 'ADN…"
      ]
     },
     "metadata": {},
     "output_type": "display_data"
    }
   ],
   "source": [
    "@interact\n",
    "def func(company_tic = widgets.Dropdown(options=gw_candidates.ticker.tolist(),value='ACA'), \n",
    "         label = widgets.Dropdown(options=esg_labels,value='Environmental')):\n",
    "    print('\\n'*2)\n",
    "    print(f'Some {label} Greenwashing candidates')\n",
    "    display(gw_candidates[gw_candidates.label==label].sort_values('pdiff',ascending=False,key=abs).head(50))\n",
    "    chosen_candidate_df = final_df[((final_df.ticker==company_tic) &(final_df[label+'_QnA']<0))]\n",
    "\n",
    "    print('\\n')\n",
    "    print(f'\\n {label} scores for {company_tic}:')\n",
    "    fig, ax = plt.subplots(figsize=(8,5))\n",
    "    tdf = final_df[final_df.ticker==company_tic]\n",
    "    for lbl in esg_labels:\n",
    "        for s in ['_QnA', '_prep_remarks']:\n",
    "            if(lbl==label):\n",
    "                ax.plot('q', lbl+s, data = tdf)\n",
    "    plt.ylabel(f'{label} scores for {company_tic}')\n",
    "    ax.legend()\n",
    "    plt.xticks(rotation=45, ha='right')\n",
    "    plt.show()\n",
    "    \n",
    "    print('\\n')\n",
    "    display(widgets.Text(value='Risks/ Conflicting statements from QnA sections',placeholder='Risks'))\n",
    "    display(widgets.Text(value='Optimism in prepared remarks',placeholder='Risks'))\n",
    "    sent_eg = get_text_example_for_tic_section(chosen_candidate_df, True, label, section='QnA', sent_thresh = 0.7)\n",
    "\n",
    "    tab_contents = ['Risks', 'Prep_remarks']\n",
    "    children = [widgets.HTML(value=f\"<b>{name}\",description=name) for name in tab_contents]\n",
    "    tab = widgets.Tab()\n",
    "    tab.children = children\n",
    "    tab.set_title(0, 'Risks')\n",
    "    tab.set_title(1, 'Prepared remarks')\n",
    "    \n",
    "    wordcloud_data_statements = get_text_example_for_tic_section(chosen_candidate_df, False, label, section='prep_remarks', \n",
    "                                                                 sent_thresh = 0.7)\n",
    "    \n",
    "    children[0].value = '<br>'.join(sent_eg)\n",
    "    children[1].value = '<br>'.join(wordcloud_data_statements)\n",
    "\n",
    "    display(tab)\n",
    "\n",
    "    print('\\n\\n Wordcloud on the prepared remarks\\n')\n",
    "\n",
    "    # print('\\n'*2)\n",
    "    if(len(wordcloud_data_statements)>0):\n",
    "        get_wordcloud(wordcloud_data_statements)\n",
    "        plt.show()\n",
    "    \n",
    "    print('\\n')\n",
    "    display(widgets.Text(value='Responses from AI LLM',placeholder='AI'))\n",
    "    print('\\n')\n",
    "    ddf = ai_df[ai_df.ticker==company_tic]\n",
    "    if(ddf.shape[0]>0):\n",
    "        display(widgets.HTML(value=f\"<b>{ddf.ai_response.iloc[0]}\",description='AI Response'))\n",
    "    else:\n",
    "        print('No cached response from AI')\n",
    "    \n",
    "    print('\\n'*2)\n",
    "    print(f'Total # of companies: {final_df.ticker.nunique()} and we found conflicitng statements in {gw_candidates.ticker.nunique()}')\n",
    "    sector_ct = gw_candidates[gw_candidates.label==label].groupby('Sector')['ticker'].nunique().reset_index()\\\n",
    "                                                            .rename(columns={'ticker':'companies_detected'})\n",
    "    secdfall = final_df.groupby('Sector')['ticker'].nunique().reset_index().rename(columns={'ticker':'total_num_companies'})\n",
    "    secdfall = secdfall.merge(sector_ct, how='left',on='Sector' )\n",
    "    # secdfall.dropna(inplace=True)\n",
    "\n",
    "    secdfall.plot(x='Sector', y=['total_num_companies','companies_detected'], kind='bar', figsize=(10,5)).legend( bbox_to_anchor =(1 ,1))\n",
    "    \n",
    "    \n",
    "    return"
   ]
  },
  {
   "cell_type": "code",
   "execution_count": 12,
   "id": "950d6e43-efef-4a40-9556-52e585989bf1",
   "metadata": {},
   "outputs": [],
   "source": [
    "# sector_scores = final_df.groupby(['Sector','q','dt']).agg({'Environmental_prep_remarks':np.nanmedian, 'Social_prep_remarks':np.nanmedian, \n",
    "#                                            'Governance_prep_remarks':np.nanmedian}) .reset_index()"
   ]
  },
  {
   "cell_type": "code",
   "execution_count": 13,
   "id": "de030e80-32ca-4a22-97d2-d285ff50af8c",
   "metadata": {},
   "outputs": [],
   "source": [
    "# sector_scores[sector_scores.Sector=='Energy']"
   ]
  },
  {
   "cell_type": "code",
   "execution_count": 14,
   "id": "245ae4f0-10a3-4358-b846-5b4ed4c7ffbc",
   "metadata": {},
   "outputs": [],
   "source": [
    "# ## Testing \n",
    "# label = 'Environmental'\n",
    "# choose_company = 'ACA'\n",
    "# chosen_candidate_df = final_df[final_df.ticker==choose_company]\n",
    "# chosen_candidate_df.plot()\n",
    "\n",
    "# print('\\n'*2)\n",
    "# print(f'ESG scores for {choose_company}:')\n",
    "# fig, ax = plt.subplots(figsize=(8,5))\n",
    "# tdf = final_df[final_df.ticker==choose_company]\n",
    "# for lbl in esg_labels:\n",
    "#     for s in ['_QnA', '_prep_remarks']:\n",
    "#         if(lbl==label):\n",
    "#             ax.plot('q', lbl+s, data = tdf)\n",
    "# plt.xticks(rotation=45, ha='right')\n",
    "\n",
    "# ax.legend()\n",
    "# plt.show()\n"
   ]
  },
  {
   "cell_type": "code",
   "execution_count": 15,
   "id": "9b2ea8b9-39ff-4032-b16e-66e13932bb17",
   "metadata": {},
   "outputs": [],
   "source": [
    "# get_sentiment_eg(final_df[((final_df.ticker=='AAPL') &(final_df['Environmental'+'_QnA']<0))],True)"
   ]
  },
  {
   "cell_type": "code",
   "execution_count": null,
   "id": "62d135fb-5df3-4a6a-a2c8-d663c4404e13",
   "metadata": {},
   "outputs": [],
   "source": [
    "    # print('\\n ### Risks/ Conflicting statements from QnA sections ###')\n",
    "    # display(pd.DataFrame(sent_eg, columns=['conflicting_statements_qna']))\n",
    "    # print(sent_eg)\n"
   ]
  }
 ],
 "metadata": {
  "kernelspec": {
   "display_name": "Python 3 (ipykernel)",
   "language": "python",
   "name": "python3"
  },
  "language_info": {
   "codemirror_mode": {
    "name": "ipython",
    "version": 3
   },
   "file_extension": ".py",
   "mimetype": "text/x-python",
   "name": "python",
   "nbconvert_exporter": "python",
   "pygments_lexer": "ipython3",
   "version": "3.9.16"
  }
 },
 "nbformat": 4,
 "nbformat_minor": 5
}

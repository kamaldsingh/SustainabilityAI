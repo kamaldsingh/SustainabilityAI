{
 "cells": [
  {
   "cell_type": "code",
   "execution_count": 2,
   "id": "e56d5648-6cf1-4db1-b481-97849bb07b15",
   "metadata": {},
   "outputs": [
    {
     "name": "stderr",
     "output_type": "stream",
     "text": [
      "[nltk_data] Downloading package punkt to /Users/kamal/nltk_data...\n",
      "[nltk_data]   Package punkt is already up-to-date!\n"
     ]
    }
   ],
   "source": [
    "%run -i ./helpers.py"
   ]
  },
  {
   "cell_type": "code",
   "execution_count": 3,
   "id": "f1c1b664-e175-4f28-9367-68232128f735",
   "metadata": {},
   "outputs": [
    {
     "name": "stdout",
     "output_type": "stream",
     "text": [
      "we have 474 cons in S&P 500\n"
     ]
    }
   ],
   "source": [
    "tp = pd.read_pickle('./data/motley-fool-data.pkl')\n",
    "tp['dt'] = tp.date.apply(lambda x: parse_dt(x))\n",
    "tp.drop(columns = ['date','exchange'],inplace=True)\n",
    "\n",
    "snp = pd.read_csv('./data/snp_constituents.csv')\n",
    "snp.Symbol = snp.Symbol.astype(str)\n",
    "constituents_snp = [x for x in list(tp.ticker.unique()) if x in snp.Symbol.tolist()]\n",
    "print(f'we have {len(constituents_snp)} cons in S&P 500')\n",
    "tp_snp = tp[tp.ticker.isin(constituents_snp)]"
   ]
  },
  {
   "cell_type": "code",
   "execution_count": 4,
   "id": "997808e3-e63e-4177-85a8-e374c593a0d7",
   "metadata": {},
   "outputs": [
    {
     "name": "stdout",
     "output_type": "stream",
     "text": [
      "2876\n"
     ]
    },
    {
     "data": {
      "text/plain": [
       "count                   18375\n",
       "unique                   5201\n",
       "top       2021-11-04 17:00:00\n",
       "freq                       73\n",
       "first     2019-04-11 10:00:00\n",
       "last      2023-02-23 11:00:00\n",
       "Name: dt, dtype: object"
      ]
     },
     "execution_count": 4,
     "metadata": {},
     "output_type": "execute_result"
    }
   ],
   "source": [
    "print(tp.ticker.nunique())\n",
    "tp.dt.describe()"
   ]
  },
  {
   "cell_type": "code",
   "execution_count": 3,
   "id": "294ce980-60f0-4326-9452-6ae37ee37ed0",
   "metadata": {},
   "outputs": [],
   "source": [
    "# limit_tickers = ['DAL']\n",
    "# tp = tp[tp.ticker.isin(limit_tickers)]"
   ]
  },
  {
   "cell_type": "code",
   "execution_count": 4,
   "id": "f5670eef-28a3-49f4-a9aa-d05c704a466a",
   "metadata": {},
   "outputs": [],
   "source": [
    "# tp[tp.ticker=='DAL'].to_csv('./dal.csv', index=None)"
   ]
  },
  {
   "cell_type": "code",
   "execution_count": 5,
   "id": "804e6d5c-d496-4d4b-8ccb-1d2603b288a8",
   "metadata": {},
   "outputs": [],
   "source": [
    "# tp[tp.ticker=='DAL'].iloc[0].transcript"
   ]
  },
  {
   "cell_type": "code",
   "execution_count": 7,
   "id": "a30e2ff9-e5ca-4e5e-9208-bb311ac4d53d",
   "metadata": {},
   "outputs": [],
   "source": [
    "def count_splits_transcripts(tr):\n",
    "    qna = [x for x in sent_tokenize(tr) if 'questions and answers' in str.lower(x) or 'questions & answers' in str.lower(x)] \n",
    "    \n",
    "    if(len(qna)>0):\n",
    "        return 1\n",
    "    else:\n",
    "        qnaa = [x for x in sent_tokenize(tr) if 'analyst' in str.lower(x) or 'portfolio manager' in str.lower(x)] \n",
    "        if(len(qnaa)>0):\n",
    "            return 2\n",
    "        else:\n",
    "            return 0\n",
    "        \n",
    "def split_transcript(row):\n",
    "    splits = re.split(r'questions and answers|questions & answers', str.lower(row.transcript))\n",
    "    if(len(splits)>0):\n",
    "        row['prep_remarks'] = splits[0]\n",
    "        row['QnA'] = ' '.join(splits[1:None])\n",
    "    else:\n",
    "        splits = re.split(r'analyst|portfolio manager', str.lower(row.transcript))\n",
    "        if(len(splits)>0):\n",
    "            row['prep_remarks'] = splits[0]\n",
    "            row['QnA'] = ' '.join(splits[1:None])\n",
    "        else:\n",
    "            print('exception')\n",
    "            row['prep_remarks'] = str.lower(row.transcript)\n",
    "            row['QnA'] = str.lower(row.transcript)\n",
    "    return(row)"
   ]
  },
  {
   "cell_type": "code",
   "execution_count": 8,
   "id": "152c904e-1849-413f-b6be-b06c5a6d2b05",
   "metadata": {},
   "outputs": [
    {
     "name": "stdout",
     "output_type": "stream",
     "text": [
      "(0, 5)\n"
     ]
    }
   ],
   "source": [
    "tp_splits = tp.apply(lambda x:split_transcript(x), axis=1)\n",
    "tp_splits.drop(columns='transcript',inplace=True)\n",
    "print(tp_splits[tp_splits.QnA.isna()].shape)"
   ]
  },
  {
   "cell_type": "code",
   "execution_count": 9,
   "id": "4c1a44a3-feec-462e-8bd4-87beecc82694",
   "metadata": {},
   "outputs": [],
   "source": [
    "# tp_splits.to_csv('./data/tp_tics_splits.csv',index=None)\n",
    "tp_splits.to_csv('./data/tp_tics_splits.csv',index=None)"
   ]
  },
  {
   "cell_type": "code",
   "execution_count": 10,
   "id": "891337cf-f00d-4102-a04b-e8d4cf570e16",
   "metadata": {},
   "outputs": [
    {
     "data": {
      "text/html": [
       "<div>\n",
       "<style scoped>\n",
       "    .dataframe tbody tr th:only-of-type {\n",
       "        vertical-align: middle;\n",
       "    }\n",
       "\n",
       "    .dataframe tbody tr th {\n",
       "        vertical-align: top;\n",
       "    }\n",
       "\n",
       "    .dataframe thead th {\n",
       "        text-align: right;\n",
       "    }\n",
       "</style>\n",
       "<table border=\"1\" class=\"dataframe\">\n",
       "  <thead>\n",
       "    <tr style=\"text-align: right;\">\n",
       "      <th></th>\n",
       "      <th>q</th>\n",
       "      <th>ticker</th>\n",
       "      <th>dt</th>\n",
       "      <th>prep_remarks</th>\n",
       "      <th>QnA</th>\n",
       "    </tr>\n",
       "  </thead>\n",
       "  <tbody>\n",
       "    <tr>\n",
       "      <th>0</th>\n",
       "      <td>2020-Q2</td>\n",
       "      <td>BILI</td>\n",
       "      <td>2020-08-27 21:00:00</td>\n",
       "      <td>prepared remarks:\\noperator\\ngood day, and wel...</td>\n",
       "      <td>:\\noperator\\nthank you, sir. [operator instruc...</td>\n",
       "    </tr>\n",
       "    <tr>\n",
       "      <th>1</th>\n",
       "      <td>2020-Q3</td>\n",
       "      <td>GFF</td>\n",
       "      <td>2020-07-30 16:30:00</td>\n",
       "      <td>prepared remarks:\\noperator\\nthank you for sta...</td>\n",
       "      <td>:\\noperator\\ncertainly. [operator instructions...</td>\n",
       "    </tr>\n",
       "    <tr>\n",
       "      <th>2</th>\n",
       "      <td>2020-Q1</td>\n",
       "      <td>LRCX</td>\n",
       "      <td>2019-10-23 17:00:00</td>\n",
       "      <td>prepared remarks:\\noperator\\ngood day and welc...</td>\n",
       "      <td>:\\noperator\\nthank you. [operator instructions...</td>\n",
       "    </tr>\n",
       "    <tr>\n",
       "      <th>3</th>\n",
       "      <td>2019-Q3</td>\n",
       "      <td>BBSI</td>\n",
       "      <td>2019-11-06 12:00:00</td>\n",
       "      <td>prepared remarks:\\noperator\\ngood day, everyon...</td>\n",
       "      <td>:\\noperator\\nthank you, sir. [operator instruc...</td>\n",
       "    </tr>\n",
       "    <tr>\n",
       "      <th>4</th>\n",
       "      <td>2019-Q2</td>\n",
       "      <td>CSTE</td>\n",
       "      <td>2019-08-07 08:30:00</td>\n",
       "      <td>prepared remarks:\\noperator\\ngreetings and wel...</td>\n",
       "      <td>:\\noperator\\nthank you. at this time, we'll be...</td>\n",
       "    </tr>\n",
       "    <tr>\n",
       "      <th>...</th>\n",
       "      <td>...</td>\n",
       "      <td>...</td>\n",
       "      <td>...</td>\n",
       "      <td>...</td>\n",
       "      <td>...</td>\n",
       "    </tr>\n",
       "    <tr>\n",
       "      <th>18750</th>\n",
       "      <td>2021-Q3</td>\n",
       "      <td>SWX</td>\n",
       "      <td>2021-11-09 13:00:00</td>\n",
       "      <td>prepared remarks:\\noperator\\nladies and gentle...</td>\n",
       "      <td>:\\noperator\\nthank you. [operator instructions...</td>\n",
       "    </tr>\n",
       "    <tr>\n",
       "      <th>18751</th>\n",
       "      <td>2021-Q4</td>\n",
       "      <td>PNNT</td>\n",
       "      <td>2021-11-18 12:00:00</td>\n",
       "      <td>prepared remarks:\\noperator\\ngood morning, and...</td>\n",
       "      <td>:\\noperator\\nthank you. [operator instructions...</td>\n",
       "    </tr>\n",
       "    <tr>\n",
       "      <th>18752</th>\n",
       "      <td>2022-Q1</td>\n",
       "      <td>TDG</td>\n",
       "      <td>2022-02-08 11:00:00</td>\n",
       "      <td>prepared remarks:\\noperator\\nthank you for sta...</td>\n",
       "      <td>:\\noperator\\n[operator instructions] our first...</td>\n",
       "    </tr>\n",
       "    <tr>\n",
       "      <th>18753</th>\n",
       "      <td>2021-Q4</td>\n",
       "      <td>DVAX</td>\n",
       "      <td>2022-02-28 16:30:00</td>\n",
       "      <td>prepared remarks:\\noperator\\ngood day, ladies ...</td>\n",
       "      <td>:\\noperator\\nthank you. [operator instructions...</td>\n",
       "    </tr>\n",
       "    <tr>\n",
       "      <th>18754</th>\n",
       "      <td>2021-Q2</td>\n",
       "      <td>CIB)</td>\n",
       "      <td>2021-08-12 09:00:00</td>\n",
       "      <td>prepared remarks:\\noperator\\ngood morning, lad...</td>\n",
       "      <td>:\\noperator\\nthank you. we will now begin the ...</td>\n",
       "    </tr>\n",
       "  </tbody>\n",
       "</table>\n",
       "<p>18755 rows × 5 columns</p>\n",
       "</div>"
      ],
      "text/plain": [
       "             q ticker                  dt  \\\n",
       "0      2020-Q2   BILI 2020-08-27 21:00:00   \n",
       "1      2020-Q3    GFF 2020-07-30 16:30:00   \n",
       "2      2020-Q1   LRCX 2019-10-23 17:00:00   \n",
       "3      2019-Q3   BBSI 2019-11-06 12:00:00   \n",
       "4      2019-Q2   CSTE 2019-08-07 08:30:00   \n",
       "...        ...    ...                 ...   \n",
       "18750  2021-Q3    SWX 2021-11-09 13:00:00   \n",
       "18751  2021-Q4   PNNT 2021-11-18 12:00:00   \n",
       "18752  2022-Q1    TDG 2022-02-08 11:00:00   \n",
       "18753  2021-Q4   DVAX 2022-02-28 16:30:00   \n",
       "18754  2021-Q2   CIB) 2021-08-12 09:00:00   \n",
       "\n",
       "                                            prep_remarks  \\\n",
       "0      prepared remarks:\\noperator\\ngood day, and wel...   \n",
       "1      prepared remarks:\\noperator\\nthank you for sta...   \n",
       "2      prepared remarks:\\noperator\\ngood day and welc...   \n",
       "3      prepared remarks:\\noperator\\ngood day, everyon...   \n",
       "4      prepared remarks:\\noperator\\ngreetings and wel...   \n",
       "...                                                  ...   \n",
       "18750  prepared remarks:\\noperator\\nladies and gentle...   \n",
       "18751  prepared remarks:\\noperator\\ngood morning, and...   \n",
       "18752  prepared remarks:\\noperator\\nthank you for sta...   \n",
       "18753  prepared remarks:\\noperator\\ngood day, ladies ...   \n",
       "18754  prepared remarks:\\noperator\\ngood morning, lad...   \n",
       "\n",
       "                                                     QnA  \n",
       "0      :\\noperator\\nthank you, sir. [operator instruc...  \n",
       "1      :\\noperator\\ncertainly. [operator instructions...  \n",
       "2      :\\noperator\\nthank you. [operator instructions...  \n",
       "3      :\\noperator\\nthank you, sir. [operator instruc...  \n",
       "4      :\\noperator\\nthank you. at this time, we'll be...  \n",
       "...                                                  ...  \n",
       "18750  :\\noperator\\nthank you. [operator instructions...  \n",
       "18751  :\\noperator\\nthank you. [operator instructions...  \n",
       "18752  :\\noperator\\n[operator instructions] our first...  \n",
       "18753  :\\noperator\\nthank you. [operator instructions...  \n",
       "18754  :\\noperator\\nthank you. we will now begin the ...  \n",
       "\n",
       "[18755 rows x 5 columns]"
      ]
     },
     "execution_count": 10,
     "metadata": {},
     "output_type": "execute_result"
    }
   ],
   "source": [
    "tp_splits"
   ]
  },
  {
   "cell_type": "code",
   "execution_count": null,
   "id": "1ae82daf-e71c-498c-bd7f-334119261ad3",
   "metadata": {},
   "outputs": [],
   "source": []
  }
 ],
 "metadata": {
  "kernelspec": {
   "display_name": "Python 3 (ipykernel)",
   "language": "python",
   "name": "python3"
  },
  "language_info": {
   "codemirror_mode": {
    "name": "ipython",
    "version": 3
   },
   "file_extension": ".py",
   "mimetype": "text/x-python",
   "name": "python",
   "nbconvert_exporter": "python",
   "pygments_lexer": "ipython3",
   "version": "3.9.16"
  }
 },
 "nbformat": 4,
 "nbformat_minor": 5
}
